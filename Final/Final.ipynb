{
 "cells": [
  {
   "cell_type": "markdown",
   "metadata": {},
   "source": [
    "# 3D Printing Batch Optimization\n",
    "## EE 608-WS - Professor Chandramouli\n",
    "### Tim Demetriades, Nicholas Dodd, Luis Garrido\n",
    "#### December 10th, 2021"
   ]
  },
  {
   "cell_type": "code",
   "execution_count": 1,
   "metadata": {},
   "outputs": [],
   "source": [
    "# Import modules\n",
    "import binpacking    # for greedy best-fit-decreasing offline bin packing algorithm\n",
    "import pandas as pd  # for holding data\n",
    "import matplotlib.pyplot as plt    # for plotting results"
   ]
  },
  {
   "cell_type": "code",
   "execution_count": 2,
   "metadata": {},
   "outputs": [
    {
     "data": {
      "text/html": [
       "<div>\n",
       "<style scoped>\n",
       "    .dataframe tbody tr th:only-of-type {\n",
       "        vertical-align: middle;\n",
       "    }\n",
       "\n",
       "    .dataframe tbody tr th {\n",
       "        vertical-align: top;\n",
       "    }\n",
       "\n",
       "    .dataframe thead th {\n",
       "        text-align: right;\n",
       "    }\n",
       "</style>\n",
       "<table border=\"1\" class=\"dataframe\">\n",
       "  <thead>\n",
       "    <tr style=\"text-align: right;\">\n",
       "      <th></th>\n",
       "      <th>v</th>\n",
       "      <th>Area(mm^2)</th>\n",
       "    </tr>\n",
       "  </thead>\n",
       "  <tbody>\n",
       "    <tr>\n",
       "      <th>0</th>\n",
       "      <td>Hinge_Lower_1</td>\n",
       "      <td>1524.24</td>\n",
       "    </tr>\n",
       "    <tr>\n",
       "      <th>1</th>\n",
       "      <td>Hinge_Lower_2</td>\n",
       "      <td>1524.24</td>\n",
       "    </tr>\n",
       "    <tr>\n",
       "      <th>2</th>\n",
       "      <td>Hinge_Lower_3</td>\n",
       "      <td>1524.24</td>\n",
       "    </tr>\n",
       "    <tr>\n",
       "      <th>3</th>\n",
       "      <td>Hinge_Lower_4</td>\n",
       "      <td>1524.24</td>\n",
       "    </tr>\n",
       "    <tr>\n",
       "      <th>4</th>\n",
       "      <td>Hinge_Shoulder_1</td>\n",
       "      <td>1650.00</td>\n",
       "    </tr>\n",
       "  </tbody>\n",
       "</table>\n",
       "</div>"
      ],
      "text/plain": [
       "                  v  Area(mm^2)\n",
       "0     Hinge_Lower_1     1524.24\n",
       "1     Hinge_Lower_2     1524.24\n",
       "2     Hinge_Lower_3     1524.24\n",
       "3     Hinge_Lower_4     1524.24\n",
       "4  Hinge_Shoulder_1     1650.00"
      ]
     },
     "execution_count": 2,
     "metadata": {},
     "output_type": "execute_result"
    }
   ],
   "source": [
    "columns = [' v', 'Area(mm^2)']    # columns wanted from the csv\n",
    "part_df = pd.read_csv('3D_printer_parts.csv', usecols = columns)    # create dataframe from csv\n",
    "part_df.head()"
   ]
  },
  {
   "cell_type": "code",
   "execution_count": 3,
   "metadata": {},
   "outputs": [
    {
     "data": {
      "text/html": [
       "<div>\n",
       "<style scoped>\n",
       "    .dataframe tbody tr th:only-of-type {\n",
       "        vertical-align: middle;\n",
       "    }\n",
       "\n",
       "    .dataframe tbody tr th {\n",
       "        vertical-align: top;\n",
       "    }\n",
       "\n",
       "    .dataframe thead th {\n",
       "        text-align: right;\n",
       "    }\n",
       "</style>\n",
       "<table border=\"1\" class=\"dataframe\">\n",
       "  <thead>\n",
       "    <tr style=\"text-align: right;\">\n",
       "      <th></th>\n",
       "      <th>Part</th>\n",
       "      <th>Area</th>\n",
       "    </tr>\n",
       "  </thead>\n",
       "  <tbody>\n",
       "    <tr>\n",
       "      <th>0</th>\n",
       "      <td>Hinge_Lower_1</td>\n",
       "      <td>1524.24</td>\n",
       "    </tr>\n",
       "    <tr>\n",
       "      <th>1</th>\n",
       "      <td>Hinge_Lower_2</td>\n",
       "      <td>1524.24</td>\n",
       "    </tr>\n",
       "    <tr>\n",
       "      <th>2</th>\n",
       "      <td>Hinge_Lower_3</td>\n",
       "      <td>1524.24</td>\n",
       "    </tr>\n",
       "    <tr>\n",
       "      <th>3</th>\n",
       "      <td>Hinge_Lower_4</td>\n",
       "      <td>1524.24</td>\n",
       "    </tr>\n",
       "    <tr>\n",
       "      <th>4</th>\n",
       "      <td>Hinge_Shoulder_1</td>\n",
       "      <td>1650.00</td>\n",
       "    </tr>\n",
       "  </tbody>\n",
       "</table>\n",
       "</div>"
      ],
      "text/plain": [
       "               Part     Area\n",
       "0     Hinge_Lower_1  1524.24\n",
       "1     Hinge_Lower_2  1524.24\n",
       "2     Hinge_Lower_3  1524.24\n",
       "3     Hinge_Lower_4  1524.24\n",
       "4  Hinge_Shoulder_1  1650.00"
      ]
     },
     "execution_count": 3,
     "metadata": {},
     "output_type": "execute_result"
    }
   ],
   "source": [
    "# Rename columns\n",
    "part_df.rename(columns = {' v' : 'Part'}, inplace = True)   \n",
    "part_df.rename(columns = {'Area(mm^2)' : 'Area'}, inplace = True)\n",
    "part_df.head()"
   ]
  },
  {
   "cell_type": "code",
   "execution_count": 4,
   "metadata": {},
   "outputs": [],
   "source": [
    "# Create dictionary with parts as keys and areas as values\n",
    "part_dict = pd.Series(part_df.Area.values,index=part_df.Part).to_dict()"
   ]
  },
  {
   "cell_type": "code",
   "execution_count": 5,
   "metadata": {},
   "outputs": [],
   "source": [
    "MAX_AREA = 48400    # mm^2"
   ]
  },
  {
   "cell_type": "code",
   "execution_count": 6,
   "metadata": {},
   "outputs": [],
   "source": [
    "# Apply the algorithm to the data\n",
    "bins = binpacking.to_constant_volume(part_dict, MAX_AREA)"
   ]
  },
  {
   "cell_type": "code",
   "execution_count": 7,
   "metadata": {},
   "outputs": [
    {
     "data": {
      "text/plain": [
       "[{'Back_Mount_Plate_1': 37040.28,\n",
       "  'Lower_Secondary_Brace_1': 7723.1,\n",
       "  'Shoulder_Back_1': 3034.08,\n",
       "  'Back_Lock_1': 358.14,\n",
       "  'Spacer_7': 36.0,\n",
       "  'Spacer_8': 36.0},\n",
       " {'Back_Mount_Plate_2': 37040.28,\n",
       "  'Lower_Secondary_Brace_2': 7723.1,\n",
       "  'Shoulder_Back_2': 3034.08,\n",
       "  'Back_Lock_2': 358.14},\n",
       " {'Rotator_PlateC_1': 27294.84,\n",
       "  'Rotator_Rail_1': 20249.29,\n",
       "  'Shoulder_Cover_1': 822.96},\n",
       " {'Rotator_PlateC_2': 27294.84,\n",
       "  'Rotator_Rail_2': 20249.29,\n",
       "  'Shoulder_Cover_2': 822.96},\n",
       " {'Rotator_PlateA_1': 24217.0, 'Upper_Brace_1': 17865.0, 'Foot_1': 5322.57},\n",
       " {'Rotator_PlateA_2': 24217.0, 'Upper_Brace_2': 17865.0, 'Foot_2': 5322.57},\n",
       " {'Rotator_PlateB_1': 24217.0,\n",
       "  'Cover_1': 13326.11,\n",
       "  'Lower_Brace_1': 9116.8,\n",
       "  'Hinge_Shoulder_1': 1650.0,\n",
       "  'Spacer_3': 36.0,\n",
       "  'Spacer_4': 36.0},\n",
       " {'Rotator_PlateB_2': 24217.0,\n",
       "  'Cover_2': 13326.11,\n",
       "  'Lower_Brace_2': 9116.8,\n",
       "  'Hinge_Shoulder_2': 1650.0,\n",
       "  'Spacer_5': 36.0,\n",
       "  'Spacer_6': 36.0},\n",
       " {'Chest_Connector_1': 5046.42,\n",
       "  'Chest_Connector_2': 5046.42,\n",
       "  'Lower_Brace_Lid_1': 4649.4,\n",
       "  'Lower_Brace_Lid_2': 4649.4,\n",
       "  'T_Bracket_1': 4250.0,\n",
       "  'T_Bracket_2': 4250.0,\n",
       "  'T_Bracket_3': 4250.0,\n",
       "  'T_Bracket_4': 4250.0,\n",
       "  'Ankle_Hinge_Lower_1': 2453.9,\n",
       "  'Ankle_Hinge_Lower_2': 2453.9,\n",
       "  'Ankle_Hinge_Upper_1': 2453.9,\n",
       "  'Ankle_Hinge_Upper_2': 2453.9,\n",
       "  'Hip_Hinge_Lower_1': 2120.0,\n",
       "  'Spacer_1': 36.0,\n",
       "  'Spacer_2': 36.0},\n",
       " {'Hip_Hinge_Upper_1': 2453.9,\n",
       "  'Hip_Hinge_Upper_2': 2453.9,\n",
       "  'Knee_Hinge_Lower_1': 2453.9,\n",
       "  'Knee_Hinge_Lower_2': 2453.9,\n",
       "  'Knee_Hinge_Upper_1': 2453.9,\n",
       "  'Knee_Hinge_Upper_2': 2453.9,\n",
       "  'Hip_Hinge_Lower_2': 2120.0,\n",
       "  'C_Bracket_1': 1813.56,\n",
       "  'C_Bracket_2': 1813.56,\n",
       "  'Hinge_Shoulder_3': 1650.0,\n",
       "  'Hinge_Shoulder_4': 1650.0,\n",
       "  'Hinge_Lower_1': 1524.24,\n",
       "  'Hinge_Lower_2': 1524.24,\n",
       "  'Hinge_Lower_3': 1524.24,\n",
       "  'Hinge_Lower_4': 1524.24,\n",
       "  'Hinge_Upper_1': 1479.0,\n",
       "  'Hinge_Upper_2': 1479.0,\n",
       "  'Hinge_Upper_3': 1479.0,\n",
       "  'Hinge_Upper_4': 1479.0,\n",
       "  'Hinge_Cover_1': 1085.28,\n",
       "  'Hinge_Cover_2': 1085.28,\n",
       "  'Hinge_Cover_3': 1085.28,\n",
       "  'Hinge_Cover_4': 1085.28,\n",
       "  'Hinge_Cover_5': 1085.28,\n",
       "  'Hinge_Cover_6': 1085.28}]"
      ]
     },
     "execution_count": 7,
     "metadata": {},
     "output_type": "execute_result"
    }
   ],
   "source": [
    "# Display results\n",
    "bins"
   ]
  },
  {
   "cell_type": "code",
   "execution_count": 8,
   "metadata": {},
   "outputs": [
    {
     "name": "stdout",
     "output_type": "stream",
     "text": [
      "Number of bins needed: 10\n"
     ]
    }
   ],
   "source": [
    "print(f'Number of bins needed: {len(bins)}')"
   ]
  },
  {
   "cell_type": "code",
   "execution_count": 9,
   "metadata": {},
   "outputs": [
    {
     "name": "stdout",
     "output_type": "stream",
     "text": [
      "Ideal area per bin: 47538.47\n",
      "Real areas per bin: [48227.6, 48155.6, 48367.090000000004, 48367.090000000004, 47404.57, 47404.57, 48381.91, 48381.91, 48399.240000000005, 42295.16]\n"
     ]
    }
   ],
   "source": [
    "# Ideal average desired area \n",
    "ideal_value = sum(part_dict.values()) / len(bins)     # total area per bin\n",
    "\n",
    "# Area of the groups obtained\n",
    "real_values = [sum(group.values()) for group in bins] # total area per bin\n",
    "\n",
    "print(f'Ideal area per bin: {ideal_value:.2f}')\n",
    "print(f'Real areas per bin: {real_values}')"
   ]
  },
  {
   "cell_type": "code",
   "execution_count": 10,
   "metadata": {},
   "outputs": [
    {
     "data": {
      "image/png": "[encoded data removed]",
      "text/plain": [
       "<Figure size 1152x432 with 1 Axes>"
      ]
     },
     "metadata": {
      "needs_background": "light"
     },
     "output_type": "display_data"
    }
   ],
   "source": [
    "# Plot bar graph showing areas per bin and line showing ideal area per bin\n",
    "fig, ax = plt.subplots(1, 1, figsize = (16, 6))\n",
    "\n",
    "ax.bar(x = range(len(bins)), height = real_values)\n",
    "ax.hlines(ideal_value, -1, len(bins), linewidths = 3, color = 'red')\n",
    "ax.hlines(MAX_AREA, -1, len(bins), linewidths = 1, color = 'green')\n",
    "\n",
    "plt.title('Area per Bin')\n",
    "plt.xlabel('Bins')\n",
    "plt.ylabel('Areas')\n",
    "\n",
    "plt.show()"
   ]
  },
  {
   "cell_type": "markdown",
   "metadata": {},
   "source": [
    "As can be seen in the graph above, the algorithm was able to find a minumum of **10 bins** needed to sort the given parts. We can see that the algorithm was able to do a pretty good job of distributing the parts, with each bin (except the last) having approximately equal areas (fullness). The red line above is the ideal average desired area per each bin and the green line is the maximum area each bin can hold. We can see that the algorithm was able to create bins whose areas were very close to the ideal average desired area."
   ]
  }
 ],
 "metadata": {
  "kernelspec": {
   "display_name": "Python 3",
   "language": "python",
   "name": "python3"
  },
  "language_info": {
   "codemirror_mode": {
    "name": "ipython",
    "version": 3
   },
   "file_extension": ".py",
   "mimetype": "text/x-python",
   "name": "python",
   "nbconvert_exporter": "python",
   "pygments_lexer": "ipython3",
   "version": "3.8.5"
  }
 },
 "nbformat": 4,
 "nbformat_minor": 4
}
